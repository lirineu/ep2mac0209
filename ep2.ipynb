{
  "nbformat": 4,
  "nbformat_minor": 0,
  "metadata": {
    "colab": {
      "name": "ep2.ipynb",
      "provenance": [],
      "collapsed_sections": []
    },
    "kernelspec": {
      "name": "python3",
      "display_name": "Python 3"
    }
  },
  "cells": [
    {
      "cell_type": "markdown",
      "metadata": {
        "id": "ridzrtfSMdkA",
        "colab_type": "text"
      },
      "source": [
        "<h1>EP2 MODELAGEM</h1>\n",
        "\n",
        "<h5>Nomes:</h5>\n",
        "\n",
        "- Lucas Irineu Rebouças Guimarães, 11221713\n",
        "- Luciano Rodrigues Saraiva Leão, 11221817\n",
        "\n"
      ]
    },
    {
      "cell_type": "markdown",
      "metadata": {
        "id": "l8kxdEcJMyPv",
        "colab_type": "text"
      },
      "source": [
        "Imports"
      ]
    },
    {
      "cell_type": "code",
      "metadata": {
        "id": "1v9d2fFNMYqS",
        "colab_type": "code",
        "colab": {
          "base_uri": "https://localhost:8080/",
          "height": 309
        },
        "outputId": "0be426d9-125d-4e87-cbd4-24d986098092"
      },
      "source": [
        "import numpy as np\n",
        "import matplotlib.pyplot as plt\n",
        "from matplotlib import animation, rc\n",
        "import pandas as pd\n",
        "import math\n",
        "!pip install pynamical\n",
        "from pynamical import logistic_map, simulate, bifurcation_plot\n"
      ],
      "execution_count": 3,
      "outputs": [
        {
          "output_type": "stream",
          "text": [
            "Collecting pynamical\n",
            "  Downloading https://files.pythonhosted.org/packages/5a/e8/72a711636ba827beff5bd848feda746db2959d0f861ec92fd93772935b96/pynamical-0.2.1-py2.py3-none-any.whl\n",
            "Requirement already satisfied: matplotlib>=2.2 in /usr/local/lib/python3.6/dist-packages (from pynamical) (3.2.2)\n",
            "Requirement already satisfied: numpy>=1.15 in /usr/local/lib/python3.6/dist-packages (from pynamical) (1.18.5)\n",
            "Requirement already satisfied: pandas>=0.24 in /usr/local/lib/python3.6/dist-packages (from pynamical) (1.0.5)\n",
            "Requirement already satisfied: numba>=0.39 in /usr/local/lib/python3.6/dist-packages (from pynamical) (0.48.0)\n",
            "Requirement already satisfied: kiwisolver>=1.0.1 in /usr/local/lib/python3.6/dist-packages (from matplotlib>=2.2->pynamical) (1.2.0)\n",
            "Requirement already satisfied: cycler>=0.10 in /usr/local/lib/python3.6/dist-packages (from matplotlib>=2.2->pynamical) (0.10.0)\n",
            "Requirement already satisfied: pyparsing!=2.0.4,!=2.1.2,!=2.1.6,>=2.0.1 in /usr/local/lib/python3.6/dist-packages (from matplotlib>=2.2->pynamical) (2.4.7)\n",
            "Requirement already satisfied: python-dateutil>=2.1 in /usr/local/lib/python3.6/dist-packages (from matplotlib>=2.2->pynamical) (2.8.1)\n",
            "Requirement already satisfied: pytz>=2017.2 in /usr/local/lib/python3.6/dist-packages (from pandas>=0.24->pynamical) (2018.9)\n",
            "Requirement already satisfied: llvmlite<0.32.0,>=0.31.0dev0 in /usr/local/lib/python3.6/dist-packages (from numba>=0.39->pynamical) (0.31.0)\n",
            "Requirement already satisfied: setuptools in /usr/local/lib/python3.6/dist-packages (from numba>=0.39->pynamical) (47.3.1)\n",
            "Requirement already satisfied: six in /usr/local/lib/python3.6/dist-packages (from cycler>=0.10->matplotlib>=2.2->pynamical) (1.12.0)\n",
            "Installing collected packages: pynamical\n",
            "Successfully installed pynamical-0.2.1\n"
          ],
          "name": "stdout"
        }
      ]
    },
    {
      "cell_type": "markdown",
      "metadata": {
        "id": "m3jQUt1zM3xM",
        "colab_type": "text"
      },
      "source": [
        "<h2> Modelo Dinâmico do COVID-19 <h2>"
      ]
    },
    {
      "cell_type": "markdown",
      "metadata": {
        "id": "nE4l-zhROIKX",
        "colab_type": "text"
      },
      "source": [
        "<h4>Ilha isolada<h4>"
      ]
    },
    {
      "cell_type": "markdown",
      "metadata": {
        "id": "hOXK5OVXNbOm",
        "colab_type": "text"
      },
      "source": [
        "Explicação aqui "
      ]
    },
    {
      "cell_type": "code",
      "metadata": {
        "id": "Gr9_WEwYQUKv",
        "colab_type": "code",
        "colab": {}
      },
      "source": [
        "def novodN(N, t):\n",
        "    return alpha * ( 1 - N/(neta * t * t)) * N + (1/t - 2 * Lambda  * t + ((t0 * t0)/t) * Lambda * math.exp(- Lambda * (t - t0) * (t - t0) ) )* N\n",
        "\n",
        "\n",
        "def novoN(N, dN, deltaT):\n",
        "    return N + dN * deltaT\n"
      ],
      "execution_count": 34,
      "outputs": []
    },
    {
      "cell_type": "code",
      "metadata": {
        "id": "czwyaQ32SZ18",
        "colab_type": "code",
        "colab": {
          "base_uri": "https://localhost:8080/",
          "height": 404
        },
        "outputId": "360ca74f-e4ae-41c9-eb27-0081dc97e763"
      },
      "source": [
        "alpha = 1.3\n",
        "t0 = 30.0   #em dias  \n",
        "Lambda = 0.014\n",
        "A = 150.0\n",
        "neta = 2*A/t0\n",
        "\n",
        "deltaT = 0.10 \n",
        "\n",
        "N = 10\n",
        "dN = 0.0\n",
        "t = 1.0\n",
        "tf=200\n",
        "\n",
        "valores1=[]\n",
        "valores2=[]\n",
        "while t < tf:\n",
        "    valores1.append(N)\n",
        "    valores2.append(t)\n",
        "    dN=novodN(N,t)\n",
        "    N=novoN(N,dN,deltaT)\n",
        "    t += deltaT\n",
        "\n",
        "\n",
        "plt.rcParams['figure.figsize']={10, 6}\n",
        "plt.plot(valores2, valores1)\n",
        "plt.title('Grafico de infectados pelo covid-19')\n",
        "plt.xlabel('Tempo')\n",
        "plt.ylabel('Casos de infectados')\n",
        "plt.show()\n",
        "   "
      ],
      "execution_count": 65,
      "outputs": [
        {
          "output_type": "display_data",
          "data": {
            "image/png": "[encoded data removed]",
            "text/plain": [
              "<Figure size 720x432 with 1 Axes>"
            ]
          },
          "metadata": {
            "tags": [],
            "needs_background": "light"
          }
        }
      ]
    },
    {
      "cell_type": "markdown",
      "metadata": {
        "id": "qCxnM4HFOU76",
        "colab_type": "text"
      },
      "source": [
        "<h4>Cinco ilhas diferentes<h4>\n",
        "\n"
      ]
    },
    {
      "cell_type": "markdown",
      "metadata": {
        "id": "aXAV4hffOY7S",
        "colab_type": "text"
      },
      "source": [
        "Explicação aqui"
      ]
    },
    {
      "cell_type": "code",
      "metadata": {
        "id": "nvJ8ER9YOgvh",
        "colab_type": "code",
        "colab": {}
      },
      "source": [
        "\n",
        "i = 0\n",
        "\n",
        "seed(3232)\n",
        "\n",
        "valores = [[],[],[],[],[]]\n",
        "\n",
        "while i < 5:\n",
        "  alpha = 6*random()\n",
        "  t0 = 200.0*random()   #em dias  \n",
        "  Lambda = 0.01 * random()\n",
        "  A = 5000 * random()\n",
        "  neta = 2*A/t0\n",
        "\n",
        "  deltaT = 0.01\n",
        "\n",
        "  N = 1\n",
        "  dN = 0.0\n",
        "  t = 1.0\n",
        "  tf=200\n",
        "\n",
        "  valores[i] = []\n",
        "  valores2 = []\n",
        "  while t < tf:\n",
        "      dN=novodN(N,t)\n",
        "      N=novoN(N,dN,deltaT)\n",
        "      #valores1.append(novodN(N,t))\n",
        "      valores[i].append(N)\n",
        "      valores2.append(t)\n",
        "      t += deltaT\n",
        "\n",
        "  plt.rcParams['figure.figsize']={10, 6}\n",
        "  plt.plot(valores2, valores[i])\n",
        "  plt.title('Grafico de infectados pelo covid-19')\n",
        "  plt.xlabel('Tempo')\n",
        "  plt.ylabel('Casos de infectados')\n",
        "  plt.show()\n",
        "  i += 1\n",
        "\n"
      ],
      "execution_count": null,
      "outputs": []
    },
    {
      "cell_type": "code",
      "metadata": {
        "id": "EtO9zU6SlkTQ",
        "colab_type": "code",
        "colab": {}
      },
      "source": [
        "i = 0\n",
        "while i < 5:\n",
        "  j = i+1\n",
        "  while j < 5:\n",
        "    plt.rcParams['figure.figsize']={10, 6}\n",
        "    plt.plot(valores[i], valores[j])\n",
        "    plt.title('Grafico de infectados pelo covid-19')\n",
        "    plt.xlabel('Casos de infectados na ilha ')\n",
        "    plt.ylabel('Casos de infectados na ilha ')\n",
        "    plt.show()\n",
        "    j += 1\n",
        "  i += 1"
      ],
      "execution_count": null,
      "outputs": []
    },
    {
      "cell_type": "markdown",
      "metadata": {
        "id": "rcTFzq0bNe16",
        "colab_type": "text"
      },
      "source": [
        "<h2>Modelo COVID-19 : segunda aproximação<h2>"
      ]
    },
    {
      "cell_type": "markdown",
      "metadata": {
        "id": "D_1GKL2rOiLK",
        "colab_type": "text"
      },
      "source": [
        "<h4>Ilha isolada<h4>"
      ]
    },
    {
      "cell_type": "markdown",
      "metadata": {
        "id": "dawH7J3PNwjj",
        "colab_type": "text"
      },
      "source": [
        "Explicação aqui"
      ]
    },
    {
      "cell_type": "code",
      "metadata": {
        "id": "_f5xNzRiNyb7",
        "colab_type": "code",
        "colab": {}
      },
      "source": [
        "def novodNt()\n",
        "  return alpha * N * (1 - )\n",
        "\n",
        "def novoNt()"
      ],
      "execution_count": null,
      "outputs": []
    },
    {
      "cell_type": "code",
      "metadata": {
        "id": "xSnkpGO-UOD3",
        "colab_type": "code",
        "colab": {}
      },
      "source": [
        ""
      ],
      "execution_count": null,
      "outputs": []
    },
    {
      "cell_type": "markdown",
      "metadata": {
        "id": "-kQ0Es7dOldh",
        "colab_type": "text"
      },
      "source": [
        "<h4>Cinco ilhas diferentes<h4>"
      ]
    },
    {
      "cell_type": "markdown",
      "metadata": {
        "id": "nF9GWRjWOp-W",
        "colab_type": "text"
      },
      "source": [
        "Explicação aqui"
      ]
    },
    {
      "cell_type": "code",
      "metadata": {
        "id": "_4AjYOUXOsTi",
        "colab_type": "code",
        "colab": {}
      },
      "source": [
        ""
      ],
      "execution_count": null,
      "outputs": []
    },
    {
      "cell_type": "markdown",
      "metadata": {
        "id": "Lw37RtP3Nzbb",
        "colab_type": "text"
      },
      "source": [
        "<h2>Comparação entre os modelos<h2>"
      ]
    },
    {
      "cell_type": "markdown",
      "metadata": {
        "id": "N4pGiHdmOC1l",
        "colab_type": "text"
      },
      "source": [
        "Explicação aqui"
      ]
    }
  ]
}