{
  "nbformat": 4,
  "nbformat_minor": 0,
  "metadata": {
    "colab": {
      "name": "ep2.ipynb",
      "provenance": [],
      "collapsed_sections": []
    },
    "kernelspec": {
      "name": "python3",
      "display_name": "Python 3"
    }
  },
  "cells": [
    {
      "cell_type": "markdown",
      "metadata": {
        "id": "ridzrtfSMdkA",
        "colab_type": "text"
      },
      "source": [
        "<h1>EP2 MODELAGEM</h1>\n",
        "\n",
        "<h5>Nomes:</h5>\n",
        "\n",
        "- Lucas Irineu Rebouças Guimarães, 11221713\n",
        "- Luciano Rodrigues Saraiva Leão, 11221817\n",
        "\n"
      ]
    },
    {
      "cell_type": "markdown",
      "metadata": {
        "id": "l8kxdEcJMyPv",
        "colab_type": "text"
      },
      "source": [
        "Imports"
      ]
    },
    {
      "cell_type": "code",
      "metadata": {
        "id": "1v9d2fFNMYqS",
        "colab_type": "code",
        "colab": {}
      },
      "source": [
        "import numpy as np\n",
        "import matplotlib.pyplot as plt\n",
        "from matplotlib import animation, rc\n",
        "import pandas as pd\n",
        "import math\n",
        "!pip install pynamical\n",
        "from pynamical import logistic_map, simulate, bifurcation_plot\n"
      ],
      "execution_count": 0,
      "outputs": []
    },
    {
      "cell_type": "markdown",
      "metadata": {
        "id": "m3jQUt1zM3xM",
        "colab_type": "text"
      },
      "source": [
        "<h2> Modelo Dinâmico do COVID-19 <h2>"
      ]
    },
    {
      "cell_type": "markdown",
      "metadata": {
        "id": "nE4l-zhROIKX",
        "colab_type": "text"
      },
      "source": [
        "<h4>Ilha isolada<h4>"
      ]
    },
    {
      "cell_type": "markdown",
      "metadata": {
        "id": "hOXK5OVXNbOm",
        "colab_type": "text"
      },
      "source": [
        "Explicação aqui "
      ]
    },
    {
      "cell_type": "code",
      "metadata": {
        "id": "Gr9_WEwYQUKv",
        "colab_type": "code",
        "colab": {}
      },
      "source": [
        "def novodN(N, t):\n",
        "    return alpha * ( 1 - N/(neta * t * t)) * N + (1/t - 2 * Lambda  * t + ((t0 * t0)/t) * Lambda * math.exp(- Lambda * (t - t0) * (t - t0) ) )\n",
        "\n",
        "\n",
        "def novoN(N, dN, deltaT):\n",
        "    return N + dN * deltaT\n"
      ],
      "execution_count": 0,
      "outputs": []
    },
    {
      "cell_type": "code",
      "metadata": {
        "id": "czwyaQ32SZ18",
        "colab_type": "code",
        "colab": {
          "base_uri": "https://localhost:8080/",
          "height": 404
        },
        "outputId": "66beda9d-e96a-4e18-8362-9674218af898"
      },
      "source": [
        "alpha = 1.1\n",
        "t0 = 10.0   #em dias  \n",
        "Lambda = 0.3\n",
        "A = 50.0\n",
        "neta = 2*A/t0\n",
        "\n",
        "deltaT = 0.5 \n",
        "\n",
        "N = 1\n",
        "dN = 0.0\n",
        "t = 1.0\n",
        "tf=20\n",
        "\n",
        "valores1=[]\n",
        "while t < tf:\n",
        "    valores1.append(novodN(N,t))\n",
        "    dN=novodN(N,t)\n",
        "    N=novoN(N,dN,deltaT)\n",
        "    t += deltaT\n",
        "\n",
        "plt.rcParams['figure.figsize']={10, 6}\n",
        "plt.plot(valores1)\n",
        "plt.title('Grafico de infectados pelo covid-19')\n",
        "plt.xlabel('Tempo')\n",
        "plt.ylabel('Casos de infectados')\n",
        "plt.show()\n",
        "   "
      ],
      "execution_count": 96,
      "outputs": [
        {
          "output_type": "display_data",
          "data": {
            "image/png": "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\n",
            "text/plain": [
              "<Figure size 720x432 with 1 Axes>"
            ]
          },
          "metadata": {
            "tags": [],
            "needs_background": "light"
          }
        }
      ]
    },
    {
      "cell_type": "markdown",
      "metadata": {
        "id": "qCxnM4HFOU76",
        "colab_type": "text"
      },
      "source": [
        "<h4>Cinco ilhas diferentes<h4>\n",
        "\n"
      ]
    },
    {
      "cell_type": "markdown",
      "metadata": {
        "id": "aXAV4hffOY7S",
        "colab_type": "text"
      },
      "source": [
        "Explicação aqui"
      ]
    },
    {
      "cell_type": "code",
      "metadata": {
        "id": "nvJ8ER9YOgvh",
        "colab_type": "code",
        "colab": {}
      },
      "source": [
        "i = 0\n"
        "\n"
        "seed(3232)\n"
        "\n"
        "valores = [[],[],[],[],[]]\n"
        "\n"
        "while i < 5:\n"
        "alpha = 6*random()\n"
        "t0 = 200.0*random()   #em dias\n"  
        "Lambda = 0.01 * random()\n"
        "A = 5000 * random()\n"
        "neta = 2*A/t0\n"
        "\n"
        "deltaT = 0.01\n"
        "\n"
        "N = 1\n"
        "dN = 0.0\n"
        "t = 1.0\n"
        "tf=200\n"
        "\n"
        "valores[i] = []\n"
        "valores2 = []\n"
        "while t < tf:\n"
        "      dN=novodN(N,t)\n"
        "      N=novoN(N,dN,deltaT)\n"
        "      #valores1.append(novodN(N,t))\n"
        "      valores[i].append(N)\n"
        "      valores2.append(t)\n"
        "      t += deltaT\n"
        "\n"
        "plt.rcParams['figure.figsize']={10, 6}\n"
        "plt.plot(valores2, valores[i])\n"
        "plt.title('Grafico de infectados pelo covid-19')\n"
        "plt.xlabel('Tempo')\n"
        "plt.ylabel('Casos de infectados')\n"
        "plt.show()\n"
        "i += 1\n"
        "\n"
      ],
      "execution_count": 0,
      "outputs": []
    },
    "cell_type": "code",
      "metadata": {
        "id": "_f5xNzRiNyb7",
        "colab_type": "code",
        "colab": {}
      },
      "source": [
        "i = 0\n"
        "while i < 5:\n"
        "  j = i+1\n"
        "  while j < 5:\n"
        "    plt.rcParams['figure.figsize']={10, 6}\n"
        "    plt.plot(valores[i], valores[j])\n"
        "    plt.title('Grafico de infectados pelo covid-19')\n"
        "    plt.xlabel('Casos de infectados na ilha ')\n"
        "    plt.ylabel('Casos de infectados na ilha ')\n"
        "    plt.show()\n"
        "    j += 1\n"
        "  i += 1\n"
      ],
      "execution_count": 0,
      "outputs": []
    },
    {
      "cell_type": "markdown",
      "metadata": {
        "id": "rcTFzq0bNe16",
        "colab_type": "text"
      },
      "source": [
        "<h2>Modelo COVID-19 : segunda aproximação<h2>"
      ]
    },
    {
      "cell_type": "markdown",
      "metadata": {
        "id": "D_1GKL2rOiLK",
        "colab_type": "text"
      },
      "source": [
        "<h4>Ilha isolada<h4>"
      ]
    },
    {
      "cell_type": "markdown",
      "metadata": {
        "id": "dawH7J3PNwjj",
        "colab_type": "text"
      },
      "source": [
        "Explicação aqui"
      ]
    },
    {
      "cell_type": "code",
      "metadata": {
        "id": "_f5xNzRiNyb7",
        "colab_type": "code",
        "colab": {}
      },
      "source": [
        ""
      ],
      "execution_count": 0,
      "outputs": []
    },
    {
      "cell_type": "markdown",
      "metadata": {
        "id": "-kQ0Es7dOldh",
        "colab_type": "text"
      },
      "source": [
        "<h4>Cinco ilhas diferentes<h4>"
      ]
    },
    {
      "cell_type": "markdown",
      "metadata": {
        "id": "nF9GWRjWOp-W",
        "colab_type": "text"
      },
      "source": [
        "Explicação aqui"
      ]
    },
    {
      "cell_type": "code",
      "metadata": {
        "id": "_4AjYOUXOsTi",
        "colab_type": "code",
        "colab": {}
      },
      "source": [
        ""
      ],
      "execution_count": 0,
      "outputs": []
    },
    {
      "cell_type": "markdown",
      "metadata": {
        "id": "Lw37RtP3Nzbb",
        "colab_type": "text"
      },
      "source": [
        "<h2>Comparação entre os modelos<h2>"
      ]
    },
    {
      "cell_type": "markdown",
      "metadata": {
        "id": "N4pGiHdmOC1l",
        "colab_type": "text"
      },
      "source": [
        "Explicação aqui"
      ]
    }
  ]
}
